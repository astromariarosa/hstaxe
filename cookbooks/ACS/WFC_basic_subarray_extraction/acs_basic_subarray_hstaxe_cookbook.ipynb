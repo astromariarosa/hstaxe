{
 "cells": [
  {
   "cell_type": "markdown",
   "metadata": {},
   "source": [
    "## HSTaXe Cookbook: Extraction for ACS/WFC Subarray G800L Data"
   ]
  },
  {
   "cell_type": "markdown",
   "metadata": {},
   "source": [
    "This notebook contains a step-by-step guide for performing a basic spectral extraction with HSTaXe for G800L subaaray data from ACS/WFC."
   ]
  },
  {
   "cell_type": "markdown",
   "metadata": {},
   "source": [
    "## 1. HSTaXe Installation"
   ]
  },
  {
   "cell_type": "markdown",
   "metadata": {},
   "source": [
    "Follow instructions from https://github.com/spacetelescope/hstaxe to install HSTaXe software"
   ]
  },
  {
   "cell_type": "markdown",
   "metadata": {},
   "source": [
    "## 2. Cookbook Data"
   ]
  },
  {
   "cell_type": "markdown",
   "metadata": {},
   "source": [
    " The example data we use in this notebook are available [here](https://stsci.app.box.com/folder/196022333710). Keep this notebook and the 'cookbook_data' folder in the same directory."
   ]
  },
  {
   "cell_type": "markdown",
   "metadata": {},
   "source": [
    "## 3. Embedding Subarray in a Full Frame"
   ]
  },
  {
   "cell_type": "markdown",
   "metadata": {},
   "source": [
    "The HSTaXe software will not run on a subarray data so we need to embed subarray in a full frame. The example data in the 'cookbook_data' folder is embedded so it can be directly used to run this notebook. But for the future reference, there is a code `embed_subarray_acs.py` ([here](https://stsci.app.box.com/folder/196022333710)) which can be used for this purpose. The code requires original subarray FLT files and corresponding SPT files. "
   ]
  },
  {
   "cell_type": "markdown",
   "metadata": {},
   "source": [
    "## 4. Load a Few Python Modules"
   ]
  },
  {
   "cell_type": "code",
   "execution_count": null,
   "metadata": {},
   "outputs": [],
   "source": [
    "%matplotlib inline\n",
    "import glob\n",
    "from astropy.io import fits\n",
    "import numpy as np\n",
    "import os, shutil\n",
    "import matplotlib.pyplot as plt\n",
    "\n",
    "from drizzlepac import astrodrizzle\n",
    "from hstaxe import axetasks\n",
    "from stwcs import updatewcs"
   ]
  },
  {
   "cell_type": "code",
   "execution_count": null,
   "metadata": {},
   "outputs": [],
   "source": [
    "# Check hstaxe version\n",
    "import hstaxe\n",
    "hstaxe.__version__"
   ]
  },
  {
   "cell_type": "markdown",
   "metadata": {},
   "source": [
    "We save the current working directory"
   ]
  },
  {
   "cell_type": "code",
   "execution_count": null,
   "metadata": {},
   "outputs": [],
   "source": [
    "cwd = os.getcwd()\n",
    "print(\"The current directory is %s\" % (cwd))"
   ]
  },
  {
   "cell_type": "markdown",
   "metadata": {},
   "source": [
    "## 5. Copying Data from the 'cookbook_data' Folder"
   ]
  },
  {
   "cell_type": "markdown",
   "metadata": {},
   "source": [
    "We will create a G800L subdirectory to copy all of the G800L files into. This where we will prepare the G800L data.\n",
    "\n",
    "Creating the directory, removing any existing one"
   ]
  },
  {
   "cell_type": "code",
   "execution_count": null,
   "metadata": {},
   "outputs": [],
   "source": [
    "os.chdir(cwd)\n",
    "if os.path.isdir(\"G800L\"):\n",
    "    shutil.rmtree(\"G800L\")\n",
    "os.mkdir(\"G800L\")"
   ]
  },
  {
   "cell_type": "markdown",
   "metadata": {},
   "source": [
    "Copying the G800L data (which we grab from our cookbook_data directory)"
   ]
  },
  {
   "cell_type": "code",
   "execution_count": null,
   "metadata": {},
   "outputs": [],
   "source": [
    "os.system(\"cp cookbook_data/G800L/*flt.fits G800L/\")\n",
    "os.system(\"cp cookbook_data/G800L/G800L.lis G800L/\")"
   ]
  },
  {
   "cell_type": "markdown",
   "metadata": {},
   "source": [
    "We move into the G800L directory and check the content of the G800L.lis file **(in this case, we have only 1 image but you could have multiple images)**"
   ]
  },
  {
   "cell_type": "code",
   "execution_count": null,
   "metadata": {},
   "outputs": [],
   "source": [
    "os.chdir(cwd)\n",
    "os.chdir(\"G800L\")\n",
    "!cat G800L.lis\n",
    "\n",
    "print()\n",
    "os.system(f\"fitsheader -f -e 0 -k APERTURE -k FILTER1 *fits\")"
   ]
  },
  {
   "cell_type": "markdown",
   "metadata": {},
   "source": [
    "We will create a F775W subdirectory to copy all of the F775W files into. This where we will prepare the F775W data.\n",
    "\n",
    "Creating the directory, removing any existing one"
   ]
  },
  {
   "cell_type": "code",
   "execution_count": null,
   "metadata": {},
   "outputs": [],
   "source": [
    "os.chdir(cwd)\n",
    "\n",
    "if os.path.isdir(\"F775W\"):\n",
    "    shutil.rmtree(\"F775W\")\n",
    "\n",
    "os.mkdir(\"F775W\")"
   ]
  },
  {
   "cell_type": "markdown",
   "metadata": {},
   "source": [
    "Copy the F775W data (which we grab from our cookbook_data directory)"
   ]
  },
  {
   "cell_type": "code",
   "execution_count": null,
   "metadata": {},
   "outputs": [],
   "source": [
    "os.system(\"cp cookbook_data/F775W/*flt.fits F775W/\")\n",
    "os.system(\"cp cookbook_data/F775W/F775W.lis F775W/\")"
   ]
  },
  {
   "cell_type": "markdown",
   "metadata": {},
   "source": [
    "We move into the F775W directory and check the content of the F775W.lis file "
   ]
  },
  {
   "cell_type": "code",
   "execution_count": null,
   "metadata": {},
   "outputs": [],
   "source": [
    "os.chdir(cwd)\n",
    "os.chdir(\"F775W\")\n",
    "!cat F775W.lis\n",
    "\n",
    "print()\n",
    "os.system(f\"fitsheader -f -e 0 -k APERTURE -k FILTER1 *fits\")"
   ]
  },
  {
   "cell_type": "markdown",
   "metadata": {},
   "source": [
    "## 6. Check/Verify Matching WCS Information"
   ]
  },
  {
   "cell_type": "markdown",
   "metadata": {},
   "source": [
    "It is possible that the WCS in the direct and grism images differ. In this section we will use a function to process all the direct and grism images to verify that the WCS information is consistent throughout. If there is any disagreement in WCS information we call `updatewcs` with the database keyword set to False, which will roll back all the solutions to the original distortion-corrected WCS. For more information regarding HST WCS and improved absolute astrometry please see [WFC3 Instrument Science Report 2022-06 (Mack et al. 2022)](https://ui.adsabs.harvard.edu/abs/2022wfc..rept....6M/abstract). For documentations on `updatewcs` please see [here](https://stwcs.readthedocs.io/en/latest/updatewcs.html).\n",
    "\n",
    "Before running _updatewcs_, we need to [set CRDS environment variables](https://hst-crds.stsci.edu/docs/cmdline_bestrefs/). We will point to a subdirectory called 'crds_cache/' using the JREF environment variable. The JREF variable is used for ACS reference files and different instruments use other variables, e.g., IREF for WFC3. You have the option to permanently add these environment variables to your user profile by adding the path in your shell's configuration file. If you're using bash, you would edit the '~/.bash_profile' file with lines such as:\n",
    "\n",
    "- export CRDS_PATH=\"$HOME/crds_cache\"\n",
    "\n",
    "- export CRDS_SERVER_URL=\"https://hst-crds.stsci.edu\"\n",
    "\n",
    "- export iref=\"${CRDS_PATH}/references/hst/iref/\"\n",
    "\n",
    "If you have already set up the CRDS environment variables you may skip running the cell below."
   ]
  },
  {
   "cell_type": "code",
   "execution_count": null,
   "metadata": {},
   "outputs": [],
   "source": [
    "os.environ[\"CRDS_SERVER_URL\"] = \"https://hst-crds.stsci.edu\"\n",
    "os.environ['CRDS_SERVER'] = 'https://hst-crds.stsci.edu'\n",
    "if \"CRDS_PATH\" not in os.environ.keys():\n",
    "    os.environ[\"CRDS_PATH\"] = os.path.join(os.environ[\"HOME\"],\"crds_cache\")\n",
    "if \"jref\" not in os.environ.keys():\n",
    "    os.environ[\"jref\"] = \"$HOME/crds_cache/references/hst/jref/\""
   ]
  },
  {
   "cell_type": "code",
   "execution_count": null,
   "metadata": {},
   "outputs": [],
   "source": [
    "def check_wcs(images):\n",
    "    \"\"\" A helper function to verify the active world coordinate solutions match and roll them back if they do not \n",
    "    (written by the WFC3 team -- Aidan Pidgeon, Benjamin Kuhn, Debopam Som)\n",
    "    \n",
    "    Parameter\n",
    "    ---------\n",
    "    images : list \n",
    "        a list of grism and direct images \n",
    "        \n",
    "    Return\n",
    "    ------\n",
    "    N/A\n",
    "    \"\"\"\n",
    "    \n",
    "    direct_wcs = []\n",
    "    grism_wcs = []\n",
    "\n",
    "    for f in images:\n",
    "        # get filter for image to distinguish between direct and grism\n",
    "        filt = fits.getval(f, 'FILTER1')\n",
    "       \n",
    "        hdul = fits.open(f)\n",
    "        db_bool = 'WCSCORR' not in hdul\n",
    "        hdul.close()\n",
    "        \n",
    "        try:\n",
    "            # get the active solution from the file's \"SCI\" extension\n",
    "            wcsname = fits.getval(f, 'WCSNAME', ext=('SCI', 1))\n",
    "            if db_bool == True:\n",
    "                updatewcs.updatewcs(f,use_db=db_bool)\n",
    "        except KeyError:\n",
    "            updatewcs.updatewcs(f,use_db=db_bool)\n",
    "            wcsname = fits.getval(f, 'WCSNAME', ext=('SCI', 1))\n",
    "        \n",
    "        # seperate between direct and grism\n",
    "        if 'G' in filt:\n",
    "            grism_wcs.append(wcsname)\n",
    "        if 'F' in filt:\n",
    "            direct_wcs.append(wcsname)\n",
    "\n",
    "    # get the number of unique active solutions in the direct and grism images       \n",
    "    num_wcs_direct = len(set(direct_wcs))\n",
    "    num_wcs_grism = len(set(grism_wcs))\n",
    "    \n",
    "    # roll back WCS on all files if there is more than one active solution for either direct or grism images\n",
    "    if num_wcs_direct > 1 or num_wcs_grism > 1:\n",
    "        [updatewcs.updatewcs(file,use_db=False) for file in images]\n",
    "        print('WCS reset complete')\n",
    "\n",
    "    # roll back WCS on all files if the active solution for the direct images do not match the grism images\n",
    "    elif set(direct_wcs) != set(grism_wcs):\n",
    "        [updatewcs.updatewcs(file,use_db=False) for file in images]\n",
    "        print('WCS reset complete')\n",
    "\n",
    "    # do nothing if there is one unique active solution and they match\n",
    "    elif set(direct_wcs) == set(grism_wcs):\n",
    "        print(f\"No WCS update needed. All grism and direct images use WCS: {grism_wcs[0]}.\")"
   ]
  },
  {
   "cell_type": "code",
   "execution_count": null,
   "metadata": {},
   "outputs": [],
   "source": [
    "os.chdir(cwd)\n",
    "all_images = glob.glob('F775W/*_flt.fits')+\\\n",
    "            glob.glob('G800L/*_flt.fits')\n",
    "\n",
    "# to populate 'crds_cache' folder with all reference files\n",
    "for image in all_images:\n",
    "    command_line_input = f'crds bestrefs --files {image} --sync-references=1 --update-bestrefs'\n",
    "    os.system(command_line_input)\n",
    "\n",
    "# or to get only IDCTAB and MDRIZTAB files\n",
    "#for image in all_images:\n",
    "#    command_line_input = f'crds bestrefs --files {image} --types IDCTAB MDRIZTAB --sync-references=1 --update-bestrefs'\n",
    "#    os.system(command_line_input)    \n",
    "\n",
    "check_wcs(all_images)"
   ]
  },
  {
   "cell_type": "markdown",
   "metadata": {},
   "source": [
    "## 7. Drizzling the Input Data"
   ]
  },
  {
   "cell_type": "markdown",
   "metadata": {},
   "source": [
    "We now create a G800L mosaic using the G800L data  **(in this case, only 1 image is drizzled but you could have multiple images)**\n",
    "\n",
    "Note, in the cell below we have set the AstroDrizzle parameters for processing only a single image. **If you have more than one direct image to drizzle together please set the parameters appropriately.** For example `driz_separate`, `driz_sep_wcs`, `median, blot`, and `driz_cr` should all be set to True. For more information please see the AstroDrizzle documentation [here](https://drizzlepac.readthedocs.io/en/latest/astrodrizzle.html). Finally, if your input images were FLC images rather than FLT images, change the extension to 'drc.fits' in the cell below."
   ]
  },
  {
   "cell_type": "markdown",
   "metadata": {},
   "source": [
    "This mosaic will be used to set up the proper astrometry for each individual FLT files. We can only extract G800L spectra from FLT files which have been used to make this mosaic"
   ]
  },
  {
   "cell_type": "code",
   "execution_count": null,
   "metadata": {},
   "outputs": [],
   "source": [
    "os.chdir(cwd)\n",
    "os.chdir(\"G800L\")\n",
    "astrodrizzle.AstroDrizzle(\"@G800L.lis\", output=\"G800L\", build=True, mdriztab=True, in_memory=False, \n",
    "                          preserve=False, skysub=False, driz_separate=False, median=False, \n",
    "                          blot=False, driz_cr=False, driz_sep_wcs=False,\n",
    "                          driz_combine=True, final_wcs=False)"
   ]
  },
  {
   "cell_type": "markdown",
   "metadata": {},
   "source": [
    "We already created a mosaic of all the G800L data for astrometric purposes, and we now create an F775W mosaic using the G800L mosaic as the astrometric reference frame. This will ensure that the G800L and F775W mosaics have pixels with the same RA and DEC. "
   ]
  },
  {
   "cell_type": "markdown",
   "metadata": {},
   "source": [
    "We create a F775W mosaic using the F775W data and the G800L mosaic as a reference **(in this case, only 1 image is drizzled)**\n",
    "\n",
    "Note, in the cell below we have set the AstroDrizzle parameters for processing only a single image. **If you have more than one direct image to drizzle together please set the parameters appropriately.** For example `driz_separate`, `driz_sep_wcs`, `median, blot`, and `driz_cr` should all be set to True. For more information please see the AstroDrizzle documentation [here](https://drizzlepac.readthedocs.io/en/latest/astrodrizzle.html). Finally, if your input images were FLC images rather than FLT images, change the extension to 'drc.fits' in the cell below."
   ]
  },
  {
   "cell_type": "code",
   "execution_count": null,
   "metadata": {},
   "outputs": [],
   "source": [
    "os.chdir(cwd)\n",
    "os.chdir(\"F775W\")\n",
    "ref = \"../G800L/G800L_drz.fits[1]\"\n",
    "astrodrizzle.AstroDrizzle(\"@F775W.lis\", output=\"F775W\", build=True, mdriztab=True, in_memory=False, \n",
    "                          preserve=False, skysub=True, driz_separate=False, median=False, \n",
    "                          blot=False, driz_cr=False, driz_sep_wcs=False, \n",
    "                          driz_combine=True, final_wcs=True, driz_sep_refimage=ref, final_refimage=ref)"
   ]
  },
  {
   "cell_type": "markdown",
   "metadata": {},
   "source": [
    "The F775W and G800L should be aligned and bright objects should generate bright spectra in the expected position. We should see very liittle offset in the y-direction for ACS grism data"
   ]
  },
  {
   "cell_type": "code",
   "execution_count": null,
   "metadata": {},
   "outputs": [],
   "source": [
    "os.chdir(cwd)\n",
    "plt.rcParams[\"figure.figsize\"] = (10,7)\n",
    "plt.subplot(1,2,1)\n",
    "d = fits.open(\"F775W/F775W_drz.fits\")[1].data\n",
    "im1 = plt.imshow(d,origin=\"lower\")\n",
    "im1.set_clim(0,8.5)\n",
    "\n",
    "plt.subplot(1,2,2)\n",
    "d = fits.open(\"G800L/G800L_drz.fits\")[1].data\n",
    "im1 = plt.imshow(d,origin=\"lower\")\n",
    "im1.set_clim(0,0.85)"
   ]
  },
  {
   "cell_type": "markdown",
   "metadata": {},
   "source": [
    "## 8. Creating a Catalog with SExtractor"
   ]
  },
  {
   "cell_type": "markdown",
   "metadata": {},
   "source": [
    "We create an object catalog using sextractor\n",
    "\n",
    "This is one step that needs to be done carefully as several things can go wrong.\n",
    "\n",
    "- Make sure you set the magnitude zeropoint properly for the image you are using\n",
    "- One can generate a simple catalog using:\n",
    "\n",
    "sex -c default.sex F775W_drc.fits[1] -DETECT_THRESH 5 -MAG_ZEROPOINT 25.656\n",
    "\n",
    "or use a full command as given in 'run_sext.e' file (cookbook_data/catalog)\n",
    "\n",
    "- See default.param for the required parameters that aXe will be looking for.\n",
    "- Check the resulting regions file and catalog to make sure that all objects have good magnitudes (i.e. no mag of 99.)\n",
    "- Edit F775W.cat and rename column 'MAG_AUTO' with 'MAG_F7692', or you will get an \"aXeError: Catalogue: test.cat does not contain any magnitude column!\" error when running iolprep\n",
    "\n",
    "This catalog, when doing a simple extraction, will be used to compute the SED of each sources. These SEDs will be used to compute our contamination models. In this example, we used a single band, F775W, but we could have added information in other bands such as F814W or F606W for example. This requires running Sextractor in matched photometry mode, and the creation of a catalog where magnitudes in multiple bands are properly listed\n",
    "\n",
    "For simplicity, here, we copy an already generated catalog:"
   ]
  },
  {
   "cell_type": "code",
   "execution_count": null,
   "metadata": {},
   "outputs": [],
   "source": [
    "os.chdir(cwd)\n",
    "os.system(\"cp cookbook_data/catalog/F775W.cat ./F775W/\")\n",
    "!cat ./F775W/F775W.cat"
   ]
  },
  {
   "cell_type": "markdown",
   "metadata": {},
   "source": [
    "## 9. Running HSTaXe"
   ]
  },
  {
   "cell_type": "markdown",
   "metadata": {},
   "source": [
    "We can now run HSTaXe. We start by setting up some necessary environment variables that point to the various HSTaXe directories. **Make sure that you keep the path length to be less than 80 characters when the code points to individual data files, or about 60 characters without the file names to be safe**"
   ]
  },
  {
   "cell_type": "markdown",
   "metadata": {},
   "source": [
    "Create a directory called CONF and copy the ACS G800L Calibration files in there."
   ]
  },
  {
   "cell_type": "code",
   "execution_count": null,
   "metadata": {},
   "outputs": [],
   "source": [
    "os.chdir(cwd)\n",
    "if os.path.isdir(\"CONF\"):\n",
    "    shutil.rmtree(\"CONF\")\n",
    "os.mkdir(\"CONF\")\n",
    "\n",
    "os.system(\"cp cookbook_data/CONF/* CONF/\")"
   ]
  },
  {
   "cell_type": "markdown",
   "metadata": {},
   "source": [
    "Set up some work directories and environment variables required by HSTaXe:"
   ]
  },
  {
   "cell_type": "code",
   "execution_count": null,
   "metadata": {},
   "outputs": [],
   "source": [
    "os.chdir(cwd)\n",
    "import os\n",
    "\n",
    "if os.path.isdir(\"DATA\"):\n",
    "    shutil.rmtree(\"DATA\")\n",
    "os.mkdir(\"DATA\")\n",
    "os.environ['AXE_IMAGE_PATH'] = cwd+'/DATA/' \n",
    "print ('--> variable AXE_IMAGE_PATH   set to '+cwd+'/DATA/')\n",
    "\n",
    "os.environ['AXE_CONFIG_PATH'] = cwd+'/CONF/'\n",
    "print ('--> variable AXE_CONFIG_PATH  set to '+cwd+'/CONF/')\n",
    "\n",
    "if os.path.isdir(\"OUTPUT\"):\n",
    "    shutil.rmtree(\"OUTPUT\")\n",
    "os.mkdir(\"OUTPUT\")\n",
    "os.environ['AXE_OUTPUT_PATH'] = cwd+'/OUTPUT/'\n",
    "print ('--> variable AXE_OUTPUT_PATH  set to '+cwd+'/OUTPUT/')\n",
    "\n",
    "if os.path.isdir(\"DRIZZLE\"):\n",
    "    shutil.rmtree(\"DRIZZLE\")\n",
    "os.mkdir(\"DRIZZLE\")\n",
    "os.environ['AXE_DRIZZLE_PATH'] = cwd+'/DRIZZLE/' \n",
    "print ('--> variable AXE_DRIZZLE_PATH  set to '+cwd+'/DRIZZLE/')\n",
    "\n",
    "os.mkdir(\"DRIZZLE/tmp\")\n",
    "\n",
    "print (\"Length of AXE_IMAGE_PATH is\",len(os.environ['AXE_IMAGE_PATH']),\"characters\")"
   ]
  },
  {
   "cell_type": "markdown",
   "metadata": {},
   "source": [
    "We define the FOV boundaries for the ACS observations.\n",
    "\n",
    "- Four numbers to specify the modifications\n",
    "\n",
    "   [left, right, bottom, top] to the target area on the input\n",
    "   images. E.g. 100,500,10,0 would include in the Input Object\n",
    "   Lists all objects with -100 < x < x_size + 500 and\n",
    "   -10 < y < y_size.\n",
    "   \n",
    "- at present using 0,0,0,0 -- **it is only important when objects are at the edges** \n"
   ]
  },
  {
   "cell_type": "code",
   "execution_count": null,
   "metadata": {},
   "outputs": [],
   "source": [
    "dimension_info = \"0,0,0,0\""
   ]
  },
  {
   "cell_type": "markdown",
   "metadata": {},
   "source": [
    "We copy the G800L FLT files and the F775W FLT files in the DATA directory\n",
    "\n",
    "You can either use the original data or optionally the FLT files used to create the G800L mosaic earlier, which will have some extra bad pixels flagging"
   ]
  },
  {
   "cell_type": "code",
   "execution_count": null,
   "metadata": {},
   "outputs": [],
   "source": [
    "os.chdir(cwd)\n",
    "os.system(\"cp G800L/*flt.fits DATA/\")\n",
    "os.system(\"cp F775W/*flt.fits DATA/\")"
   ]
  },
  {
   "cell_type": "markdown",
   "metadata": {},
   "source": [
    "We use the iolprep aXe task to generate individual F775W catalogs"
   ]
  },
  {
   "cell_type": "markdown",
   "metadata": {},
   "source": [
    "This task will create the individual F775W extraction catalogs, TWO (1 for chip1 and 1 for chip2) for each of the files listed in the F775W.lis file. We pass the F775W mosaic to it, as it contains all the information about all the individual F775W FLT file. \n",
    "\n",
    "Here, the catalog name is 'filename_flt_1.cat' -- **here we are using only 1 chip because of the subarray data**"
   ]
  },
  {
   "cell_type": "code",
   "execution_count": null,
   "metadata": {},
   "outputs": [],
   "source": [
    "os.chdir(cwd)\n",
    "os.chdir(\"F775W\")\n",
    "\n",
    "axetasks.iolprep(drizzle_image='F775W_drz.fits',\n",
    "                 input_cat='F775W.cat',\n",
    "                 dimension_in=dimension_info)"
   ]
  },
  {
   "cell_type": "markdown",
   "metadata": {},
   "source": [
    "We copy the newly create catalog files into the DATA directory"
   ]
  },
  {
   "cell_type": "code",
   "execution_count": null,
   "metadata": {},
   "outputs": [],
   "source": [
    "os.chdir(cwd)\n",
    "os.system(\"cp ./F775W/j*.cat DATA/\")"
   ]
  },
  {
   "cell_type": "code",
   "execution_count": null,
   "metadata": {},
   "outputs": [],
   "source": [
    "!ls ./DATA"
   ]
  },
  {
   "cell_type": "markdown",
   "metadata": {},
   "source": [
    "We are almost ready to extract the spectra. We need to create an file aXe.lis containing the G800L images, expected catalog names and associated F775W direct images"
   ]
  },
  {
   "cell_type": "markdown",
   "metadata": {},
   "source": [
    "The G800L mosaic we created earlier is not used directly during the aXe extraction process. However, the F775W mosaic was used to create an object master catalog. This catalog will be processed to generate individual object catalogs for the files used to create the F775W mosaic. The aXe.lis file lists which F775W images are logically associated with a particular G800L image. Ideally, these are images taken in the same HST visit so that we can be sure that the WCS of both files are consistent.\n",
    "\n",
    "The aXe.lis file is a simple text file, with a slightly different format than the one above. In this file, each line contains 3 items:\n",
    "\n",
    "- The name of a G800L FLT file (e.g. [grism_rootname]_flt.fits)\n",
    "- One catalog name corresponding to one chip on ACS/WFC \n",
    "- The name of the direct imaging file [direct_rootname]_flt.fits associated with the G800L data and the catalog.\n",
    "\n"
   ]
  },
  {
   "cell_type": "code",
   "execution_count": null,
   "metadata": {},
   "outputs": [],
   "source": [
    "os.chdir(cwd)\n",
    "os.system(\"cp cookbook_data/aXe.lis .\")\n",
    "!cat aXe.lis"
   ]
  },
  {
   "cell_type": "markdown",
   "metadata": {},
   "source": [
    "We run aXeprep. This task will amongst other things take care of background subtracting the G800L data using a single master sky. First we check which Chip we are using and what configuration files are needed."
   ]
  },
  {
   "cell_type": "code",
   "execution_count": null,
   "metadata": {},
   "outputs": [],
   "source": [
    "os.chdir(cwd)\n",
    "\n",
    "fd=fits.open('./DATA/jdql01jiq_flt.fits')\n",
    "ccdchip = fd[1].header['CCDCHIP']\n",
    "ccdamp = fd[0].header['CCDAMP']\n",
    "print('CCD_CHIP =',ccdchip)\n",
    "print('CCD_AMP =',ccdamp)\n",
    "\n",
    "if ccdchip == 1:\n",
    "    config_file='ACS.WFC.CHIP1.Cycle13.5.conf'\n",
    "    msky_file='ACS.WFC.CHIP1.msky.1.smooth.fits'\n",
    "else:\n",
    "    config_file='ACS.WFC.CHIP2.Cycle13.5.conf'\n",
    "    msky_file='ACS.WFC.CHIP2.msky.1.smooth.fits'\n",
    "\n",
    "print('Config_File =',config_file)\n",
    "print('MSky_File =',msky_file)"
   ]
  },
  {
   "cell_type": "code",
   "execution_count": null,
   "metadata": {},
   "outputs": [],
   "source": [
    "os.chdir(cwd)\n",
    "\n",
    "axetasks.axeprep(inlist=\"aXe.lis\",\n",
    "                     configs=config_file,\n",
    "                     backgr=True,\n",
    "                     backims=msky_file,\n",
    "                     norm=True,\n",
    "                     mfwhm=3.0)"
   ]
  },
  {
   "cell_type": "markdown",
   "metadata": {},
   "source": [
    "**We can now proceed with a simple box extraction of our G800L spectra.** This will not combine individual 1D spectra and we create one extracted spectrum per object and get G800L FLT file we are processing. The contamination is estimated using the Gaussian model of each object that is included in the SExtractor object catalog."
   ]
  },
  {
   "cell_type": "markdown",
   "metadata": {},
   "source": [
    "For each of the G800L input FLT file, this will create the following in the OUTPUT/ directory:\n",
    "\n",
    "- [rootname]_flt_2.cat : Object catalog for the FLT file [rootname]_flt.fits\n",
    "- [rootname]_flt_2.OAF : Aperture file\n",
    "- [rootname]_flt_2.PET.fits : The Pixel Extraction Table, containing all the unbinned information about each spectrum\n",
    "- [rootname]_flt_2.SPC.fits : 1D extracted spectra\n",
    "- [rootname]_flt_2.CONT.fits : Contamination estimate for eact of the spectra\n",
    "- [rootname]_flt_2_opt.SPC.fits : Optimally extracted version of the 1D spectra\n",
    "\n",
    "While running the next notebook cell, it might take a few minutes to run"
   ]
  },
  {
   "cell_type": "code",
   "execution_count": null,
   "metadata": {},
   "outputs": [],
   "source": [
    "os.chdir(cwd)\n",
    "# infwhm (extrfwhm) & outfwhm (drzfwhm) can be (5,4)(wide), (4,3)(default) or (3,2)(narrow)\n",
    "axetasks.axecore('aXe.lis',\n",
    "                 config_file,\n",
    "                 fconfterm=msky_file,\n",
    "                 extrfwhm=4.,\n",
    "                 drzfwhm=3.,\n",
    "                 backfwhm=0.,\n",
    "                 orient=False,\n",
    "                 weights=True,\n",
    "                 slitless_geom=False,\n",
    "                 cont_model='gauss',\n",
    "                 sampling='drizzle',\n",
    "                 exclude=True)"
   ]
  },
  {
   "cell_type": "markdown",
   "metadata": {},
   "source": [
    "Results are in the directory pointed to by os.environ['AXE_OUTPUT_PATH'], i.e. ./OUTPUT 1D and 2D spectra extracted from individual FLT files are available. These are not combined. SPC files contained 1D spectra, opt.SPC files contained optimally extracted spectra (using gaussian profiles), STP files contain 2D stamps. CONT files contain the contamination estimate (gaussian based)"
   ]
  },
  {
   "cell_type": "markdown",
   "metadata": {},
   "source": [
    "## 10. Review Output Spectra"
   ]
  },
  {
   "cell_type": "code",
   "execution_count": null,
   "metadata": {},
   "outputs": [],
   "source": [
    "os.chdir(cwd)\n",
    "!ls OUTPUT/*SPC.fits\n",
    "!ls OUTPUT/*STP.fits"
   ]
  },
  {
   "cell_type": "code",
   "execution_count": null,
   "metadata": {},
   "outputs": [],
   "source": [
    "ID = 12 # object ID from the Source Extractor catalog\n",
    "\n",
    "f1_FLT =\"DATA/jdql01jjq_flt.fits\"\n",
    "\n",
    "f1_STP = \"OUTPUT/jdql01jjq_flt_2.STP.fits\"\n",
    "f1_SPC = \"OUTPUT/jdql01jjq_flt_2.SPC.fits\"\n",
    "f1_OPT_SPC = \"OUTPUT/jdql01jjq_flt_2_opt.SPC.fits\""
   ]
  },
  {
   "cell_type": "markdown",
   "metadata": {},
   "source": [
    "We can examine individual 2D spectra from the STP files. Note that the STP files are meant for quality control and are not calibrated versions of the 2D spectra."
   ]
  },
  {
   "cell_type": "code",
   "execution_count": null,
   "metadata": {},
   "outputs": [],
   "source": [
    "plt.rcParams[\"figure.figsize\"] = (10,3)\n",
    "try:\n",
    "    d1 = fits.open(f1_STP)[\"BEAM_%dA\" % (ID)].data\n",
    "    im1 = plt.imshow(d1,origin=\"lower\")\n",
    "    im1.set_clim(0,400)\n",
    "except:\n",
    "    pass"
   ]
  },
  {
   "cell_type": "markdown",
   "metadata": {},
   "source": [
    "We now examine the calibrated 1D spectra of one of the sources:"
   ]
  },
  {
   "cell_type": "code",
   "execution_count": null,
   "metadata": {},
   "outputs": [],
   "source": [
    "for s in glob.glob(f1_SPC):\n",
    "    print( s)\n",
    "    d1 = fits.open(s)[\"BEAM_%dA\" % (ID)].data\n",
    "    w = d1[\"LAMBDA\"]\n",
    "    f = d1[\"FLUX\"]\n",
    "    e = d1[\"FERROR\"]\n",
    "    vg = (w>5500) & (w<10500)\n",
    "    plt.errorbar(w[vg],f[vg],e[vg])\n",
    "plt.xlabel(r'Wavelength ($\\AA$)')\n",
    "plt.ylabel(r'Flux ($erg/s/cm^2/\\AA$)');"
   ]
  },
  {
   "cell_type": "code",
   "execution_count": null,
   "metadata": {},
   "outputs": [],
   "source": [
    "for s in glob.glob(f1_SPC):\n",
    "    print( s)\n",
    "    d1 = fits.open(s)[\"BEAM_%dA\" % (ID)].data\n",
    "    w = d1[\"LAMBDA\"]\n",
    "    f = d1[\"COUNT\"]\n",
    "    vg = (w>5500) & (w<10500)\n",
    "    plt.plot(w[vg],f[vg])\n",
    "plt.xlabel(r'Wavelength ($\\AA$)')\n",
    "plt.ylabel(r'COUNT (Count)');"
   ]
  },
  {
   "cell_type": "markdown",
   "metadata": {},
   "source": [
    "Contamination is not automatically removed but has been estimated and we can plot it"
   ]
  },
  {
   "cell_type": "code",
   "execution_count": null,
   "metadata": {},
   "outputs": [],
   "source": [
    "for s in glob.glob(f1_SPC):\n",
    "    print (s)\n",
    "    d1 = fits.open(s)[\"BEAM_%dA\" % (ID)].data\n",
    "    w = d1[\"LAMBDA\"]\n",
    "    c = d1[\"CONTAM\"]\n",
    "    vg = (w>5500) & (w<12000)\n",
    "    plt.plot(w[vg],c[vg],label=s)\n",
    "plt.legend()\n",
    "plt.xlabel(r'Wavelength ($\\AA$)')\n",
    "plt.ylabel(r'Flux ($erg/s/cm^2/\\AA$)');"
   ]
  },
  {
   "cell_type": "markdown",
   "metadata": {},
   "source": [
    "## 11. Additional Steps to Use 'aXedrizzle' Task to Combine Multiple Exposures"
   ]
  },
  {
   "cell_type": "code",
   "execution_count": null,
   "metadata": {},
   "outputs": [],
   "source": [
    "os.chdir(cwd)\n",
    "axetasks.drzprep(inlist = \"aXe.lis\", \n",
    "                 configs=config_file,\n",
    "                 back = False,\n",
    "                 opt_extr=True)"
   ]
  },
  {
   "cell_type": "code",
   "execution_count": null,
   "metadata": {},
   "outputs": [],
   "source": [
    "!ls -altr OUTPUT/*DPP*"
   ]
  },
  {
   "cell_type": "code",
   "execution_count": null,
   "metadata": {},
   "outputs": [],
   "source": [
    "os.chdir(cwd)\n",
    "# infwhm (extrfwhm) & outfwhm (drzfwhm) can be (5,4)(wide), (4,3)(default) or (3,2)(narrow)\n",
    "axetasks.axecrr(inlist=\"aXe.lis\",\n",
    "                configs=config_file,\n",
    "                infwhm = 4.0,\n",
    "                outfwhm = 3.0,\n",
    "                back = False,\n",
    "                driz_separate = 'yes',\n",
    "                opt_extr=True)"
   ]
  },
  {
   "cell_type": "markdown",
   "metadata": {},
   "source": [
    "The extraction results are in the DRIZZLE directory we created, and we can examine a 2D, rectified and wavelength calibrated version of the spectrum we looked at earlier:"
   ]
  },
  {
   "cell_type": "code",
   "execution_count": null,
   "metadata": {},
   "outputs": [],
   "source": [
    "plt.rcParams[\"figure.figsize\"] = (10,3)\n",
    "d = fits.open(\"./DRIZZLE/aXedrizzle_2.STP.fits\")[\"BEAM_%dA\" % (ID)].data\n",
    "im = plt.imshow(d)\n",
    "im.set_clim(0,100)"
   ]
  },
  {
   "cell_type": "markdown",
   "metadata": {},
   "source": [
    "We plot the extracted 1D spectra of our source and the estimate of the contamination:"
   ]
  },
  {
   "cell_type": "code",
   "execution_count": null,
   "metadata": {},
   "outputs": [],
   "source": [
    "fin = fits.open(\"./DRIZZLE/aXedrizzle_2.SPC.fits\")\n",
    "tdata = fin[\"BEAM_%dA\" % (ID)].data\n",
    "x = tdata[\"LAMBDA\"]\n",
    "f = tdata[\"FLUX\"]\n",
    "e = tdata[\"FERROR\"]\n",
    "\n",
    "c = tdata[\"CONTAM\"]\n",
    "vg = (x>5500) & (x<10500)\n",
    "plt.plot(x[vg],f[vg])\n",
    "plt.errorbar(x[vg],f[vg],e[vg])\n",
    "\n",
    "plt.plot(x[vg],c[vg])"
   ]
  },
  {
   "cell_type": "markdown",
   "metadata": {},
   "source": [
    "The MEF files in the DRIZZLE directory contain the 2D version of the spectrum of a source as well as estimate of the contamination:"
   ]
  },
  {
   "cell_type": "code",
   "execution_count": null,
   "metadata": {},
   "outputs": [],
   "source": [
    "plt.subplot(2,1,1)\n",
    "d = fits.open(\"./DRIZZLE/aXedrizzle_mef_ID%d.fits\" % (ID))[\"SCI\"].data\n",
    "im = plt.imshow(d)\n",
    "im.set_clim(0,50)\n",
    "\n",
    "plt.subplot(2,1,2)\n",
    "d = fits.open(\"./DRIZZLE/aXedrizzle_mef_ID%d.fits\" % (ID))[\"CON\"].data\n",
    "im = plt.imshow(d)\n",
    "im.set_clim(0,10)"
   ]
  },
  {
   "cell_type": "markdown",
   "metadata": {},
   "source": [
    "The individually extracted spectra are in the OUTPUT directory and the combined ones in the DRIZZLE directory. We can plot and compare them:"
   ]
  },
  {
   "cell_type": "code",
   "execution_count": null,
   "metadata": {},
   "outputs": [],
   "source": [
    "for s in glob.glob(f1_SPC):\n",
    "    print(s)\n",
    "    d1 = fits.open(s)[\"BEAM_%dA\" % (ID)].data\n",
    "    w = d1[\"LAMBDA\"]\n",
    "    f = d1[\"FLUX\"]\n",
    "    e = d1[\"FERROR\"]\n",
    "    vg = (w>5500) & (w<10500)\n",
    "    plt.errorbar(w[vg],f[vg],e[vg])\n",
    "plt.xlabel(r'Wavelength ($\\AA$)')\n",
    "plt.ylabel(r'Flux ($erg/s/cm^2/\\AA$)');\n",
    "\n",
    "\n",
    "fin = fits.open(\"./DRIZZLE/aXedrizzle_2.SPC.fits\")\n",
    "tdata = fin[\"BEAM_%dA\" % (ID)].data\n",
    "x = tdata[\"LAMBDA\"]\n",
    "f = tdata[\"FLUX\"]\n",
    "e = tdata[\"FERROR\"]\n",
    "\n",
    "c = tdata[\"CONTAM\"]\n",
    "vg = (x>5500) & (x<10500)\n",
    "\n",
    "plt.plot(x[vg],f[vg],color='k',lw=2)\n",
    "plt.errorbar(x[vg],f[vg],e[vg],color='k',lw=2)"
   ]
  },
  {
   "cell_type": "markdown",
   "metadata": {
    "collapsed": true
   },
   "source": [
    "## Conclusions\n",
    "\n",
    "Thank you for walking through this spectral extraction workflow. You should now be able to perform a basic extraction on ACS/WFC data using HSTaXe.\n",
    "\n",
    "For detailed information on HSTaXe, please visit the [documentation webpage](https://hstaxe.readthedocs.io/en/latest/index.html).\n",
    "\n",
    "Lastly, if you have questions regarding this notebook or using WFC3 data with HSTaXe please contact our [ACS Help Desk](https://stsci.service-now.com/hst)."
   ]
  },
  {
   "cell_type": "markdown",
   "metadata": {},
   "source": [
    "## About this Notebook\n",
    "\n",
    "**Author:** Nimish Hathi, ACS Instrument Branch (STScI)\n",
    "\n",
    "**Updated On:** March 8, 2023"
   ]
  },
  {
   "cell_type": "code",
   "execution_count": null,
   "metadata": {},
   "outputs": [],
   "source": []
  }
 ],
 "metadata": {
  "kernelspec": {
   "display_name": "Python 3 (ipykernel)",
   "language": "python",
   "name": "python3"
  },
  "language_info": {
   "codemirror_mode": {
    "name": "ipython",
    "version": 3
   },
   "file_extension": ".py",
   "mimetype": "text/x-python",
   "name": "python",
   "nbconvert_exporter": "python",
   "pygments_lexer": "ipython3",
   "version": "3.10.8"
  }
 },
 "nbformat": 4,
 "nbformat_minor": 2
}
