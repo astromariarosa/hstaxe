{
 "cells": [
  {
   "cell_type": "markdown",
   "id": "d5ca3109",
   "metadata": {},
   "source": [
    "<a id=\"top\"></a>\n",
    "# HSTaXe Cookbook: Basic Extraction for WFC3/IR \n",
    "\n",
    "This notebook contains a step-by-step guide for performing a basic spectral extraction with HSTaXe for G102 or G141 data from WFC3/IR. \n",
    "\n",
    "***\n",
    "## Learning Goals\n",
    "In this tutorial, you will:\n",
    "\n",
    "- Organize input data\n",
    "- Set up HSTaXe and prepare data for extraction\n",
    "- Learn how to handle different types of background subtraction\n",
    "- Extract 1-D spectra with a simple box extraction\n",
    "\n",
    "## Table of Contents\n",
    "\n",
    "[Introduction](#intro) <br>\n",
    "[1. Imports](#import) <br>\n",
    "[2. Setup](#setup) <br>\n",
    "- [2.1 Drizzling Input Data](#drizzle) <br>\n",
    "- [2.2 Creating a Catalog with SExtractor](#catalog) <br>\n",
    "\n",
    "[3. Running HSTaXe](#axe) <br>\n",
    "- [3.1. Outputs](#out) <br>\n",
    "\n",
    "[4. Conclusions](#conclusions) <br>\n",
    "[About this Notebook](#about) <br>\n",
    "[Citations](#cite) <br>"
   ]
  },
  {
   "cell_type": "markdown",
   "id": "2407f8e9",
   "metadata": {},
   "source": [
    "## Introduction <a id=\"intro\"></a>\n",
    "\n",
    "[HSTaXe](https://hstaxe.readthedocs.io/en/latest/index.html) is a Python package that provides spectral extraction processes for HST data. Please ensure that you have installed the `hstaxe` module according to the instructions in the documentation, and are running this notebook from the environment created through those instructions.\n",
    "\n",
    "This notebook will take you through a basic extraction using WFC3/IR grism data. Example data using the G141 grism are available [here](https://stsci.box.com/s/j2ygj4gaqgzmp0b4xcc1h2rszz6cv9wm) if you would like to practice the workflow. You can dowload all required data in the `example_data` subdirectory, and store it within the same parent directory as this notebook.\n",
    "\n",
    "This notebook will also require configuration files for HSTaXe, which can be downloaded [here](https://stsci.box.com/s/vzkf9x6fmnkjxq6q3v1gbuggk4y3r7kx). These files should then be stored in the `CONF` subdirectory that will be created later in the notebook."
   ]
  },
  {
   "cell_type": "markdown",
   "id": "a91e02da",
   "metadata": {},
   "source": [
    "# 1. Imports <a id=\"import\"></a>\n",
    "\n",
    "For this workflow, we will import the following modules:\n",
    "\n",
    "- *os*, *glob* and *shutil*, for file handling\n",
    "- *numpy* for array handling\n",
    "- *astropy.io.fits* for FITS file handling\n",
    "- *matplotlib.pyplot* for plotting\n",
    "- *astrodrizzle* for creating input image mosaics\n",
    "- *hstaxe.axetasks* for performing the spectral extraction\n",
    "\n",
    "This notebook will also require a working installation of SExtractor, which will be used to create an input catalog for HSTaXe. Instructions for installing SExtractor are available [here](https://sextractor.readthedocs.io/en/latest/Installing.html)."
   ]
  },
  {
   "cell_type": "code",
   "execution_count": null,
   "id": "0d3e99ce",
   "metadata": {},
   "outputs": [],
   "source": [
    "%matplotlib inline\n",
    "\n",
    "import os\n",
    "import shutil\n",
    "import glob\n",
    "import numpy as np\n",
    "import matplotlib.pyplot as plt\n",
    "from astropy.io import fits, ascii\n",
    "from astropy.table import Table\n",
    "from drizzlepac import astrodrizzle\n",
    "from hstaxe import axetasks"
   ]
  },
  {
   "cell_type": "markdown",
   "id": "3915d574",
   "metadata": {},
   "source": [
    "## 2. Setup <a id=\"setup\"></a>\n",
    "\n",
    "We'll start our basic extraction workflow by organizing our input data. A set of example data are available [here](https://stsci.box.com/s/tpbhvrqtbtwod7tr7uijexttoocy4duj) for tutorial purposes.\n",
    "\n",
    "First, we save the working directory for this notebook."
   ]
  },
  {
   "cell_type": "code",
   "execution_count": null,
   "id": "159c7dec",
   "metadata": {},
   "outputs": [],
   "source": [
    "cwd = os.getcwd()\n",
    "print(f'The current directory is: {cwd}')"
   ]
  },
  {
   "cell_type": "markdown",
   "id": "672b237e",
   "metadata": {},
   "source": [
    "Next, we'll create directories for our grism and direct images. **HSTaXe will modify our input images in-place, so it is crucial to retain clean versions of them in another location, which will be copied into these directories.** If running this notebook multiple times, run all the lines in the next cell to clear any existing inputs; otherwise, you can run only the uncommented lines."
   ]
  },
  {
   "cell_type": "code",
   "execution_count": null,
   "id": "20b991be",
   "metadata": {},
   "outputs": [],
   "source": [
    "os.chdir(cwd)\n",
    "if os.path.isdir('grism_ims'):\n",
    "    shutil.rmtree('grism_ims')\n",
    "if os.path.isdir('direct_ims'):\n",
    "    shutil.rmtree('direct_ims')\n",
    "os.mkdir('grism_ims')\n",
    "os.mkdir('direct_ims')"
   ]
  },
  {
   "cell_type": "markdown",
   "id": "9629fddd",
   "metadata": {},
   "source": [
    "Now, copy your images to the input directories."
   ]
  },
  {
   "cell_type": "code",
   "execution_count": null,
   "id": "47783cde",
   "metadata": {},
   "outputs": [],
   "source": [
    "# src = '/path/to/your/grism/images/*.fits'\n",
    "src = 'example_data/grism/*.fits'\n",
    "dst = 'grism_ims/'\n",
    "for f in glob.glob(src):\n",
    "    shutil.copy(f, dst)\n",
    "\n",
    "# src = '/path/to/your/direct/images/*.fits'\n",
    "src = 'example_data/direct/*.fits'\n",
    "dst = 'direct_ims/'\n",
    "for f in glob.glob(src):\n",
    "    shutil.copy(f, dst)"
   ]
  },
  {
   "cell_type": "markdown",
   "id": "f079201a",
   "metadata": {},
   "source": [
    "## 2.1 Drizzling the Input Data<a id=\"drizzle\"></a>\n",
    "The next step is to drizzle the grism images. We'll need a list of the image names to feed to AstroDrizzle. After that, we'll do the same for the direct images, but use the drizzled grism image as a reference, which will ensure proper registration between the data. HSTaXe will use these linked drizzle images to locate spectral traces based on the positions of sources in the direct images."
   ]
  },
  {
   "cell_type": "code",
   "execution_count": null,
   "id": "41cdf196",
   "metadata": {},
   "outputs": [],
   "source": [
    "# Creat list file using images in grism directory\n",
    "os.chdir('grism_ims')\n",
    "\n",
    "lis = open('grism.lis', 'w')\n",
    "for f in sorted(os.listdir('.')):\n",
    "    if os.path.splitext(f)[1]=='.fits':\n",
    "        lis.write(f)\n",
    "        lis.write('\\n')\n",
    "lis.close()\n",
    "\n",
    "!cat grism.lis"
   ]
  },
  {
   "cell_type": "code",
   "execution_count": null,
   "id": "f806c612",
   "metadata": {},
   "outputs": [],
   "source": [
    "# Drizzle grism images. If only using one input image, set blot, median, driz_cr to False\n",
    "astrodrizzle.AstroDrizzle('@grism.lis', output='grism', \n",
    "                          build=True, blot=True, median=True, driz_cr=True)"
   ]
  },
  {
   "cell_type": "code",
   "execution_count": null,
   "id": "679312fe",
   "metadata": {},
   "outputs": [],
   "source": [
    "# List file for direct images\n",
    "os.chdir(cwd)\n",
    "os.chdir('direct_ims')\n",
    "\n",
    "lis = open('direct.lis', 'w')\n",
    "for f in sorted(os.listdir('.')):\n",
    "    if os.path.splitext(f)[1]=='.fits':\n",
    "        lis.write(f)\n",
    "        lis.write('\\n')\n",
    "lis.close()\n",
    "\n",
    "!cat direct.lis"
   ]
  },
  {
   "cell_type": "code",
   "execution_count": null,
   "id": "92e9d4e7",
   "metadata": {},
   "outputs": [],
   "source": [
    "# Drizzle direct images, using drizzled grism mosaic as a reference to ensure proper registration.\n",
    "# If only using a single direct image, set the CR rejection keywords to False.\n",
    "# If your input images were flc images rather than flt images, change the extension to 'drc.fits'\n",
    "ref = '../grism_ims/grism_drz.fits[1]'\n",
    "astrodrizzle.AstroDrizzle('@direct.lis', output='direct', build=True, \n",
    "                          final_wcs=True, driz_sep_wcs=True,\n",
    "                          driz_sep_refimage=ref, final_refimage=ref,\n",
    "                          blot=True, median=True, driz_cr=True)"
   ]
  },
  {
   "cell_type": "markdown",
   "id": "1f9187eb",
   "metadata": {},
   "source": [
    "Your grism and direct images should now be aligned. For the WFC3/IR grisms, there should be very little vertical offset between the positions of sources in the direct image and their correspondents in the grism image. We'll perform a quick visual check here:"
   ]
  },
  {
   "cell_type": "code",
   "execution_count": null,
   "id": "3a28fa6a",
   "metadata": {
    "scrolled": true
   },
   "outputs": [],
   "source": [
    "os.chdir(cwd)\n",
    "fig, axs = plt.subplots(1, 2, figsize=(8,8))\n",
    "\n",
    "d = fits.getdata('direct_ims/direct_drz.fits', 1)\n",
    "im1 = axs[0].imshow(d, origin='lower')\n",
    "\n",
    "d = fits.getdata('grism_ims/grism_drz.fits', 1)\n",
    "im2 = axs[1].imshow(d, origin='lower')\n",
    "\n",
    "# Adjust image levels here\n",
    "im1.set_clim(0, 0.2)\n",
    "im2.set_clim(0, 0.2)\n",
    "\n",
    "plt.tight_layout()"
   ]
  },
  {
   "cell_type": "markdown",
   "id": "30810db8",
   "metadata": {},
   "source": [
    "## 2.2 Creating a Catalog with SExtractor<a id=\"catalog\"></a>\n",
    "\n",
    "With our drizzle images created, we now need a catalog of sources in the direct image. Creating this catalog requires using SExtractor, which may need to be installed separately; please refer to the link in the Imports section for instructions on how to do this.\n",
    "\n",
    "HSTaXe will look for a highly specific format in the catalog, and does not always give clear error messages when something within the catalog is awry. Please follow the next steps carefully:\n",
    "\n",
    "1. Copy the drizzled direct image into the `sextractor` directory, which contains HSTaXe-appropriate configuration files for SExtractor."
   ]
  },
  {
   "cell_type": "code",
   "execution_count": null,
   "id": "e9857159",
   "metadata": {},
   "outputs": [],
   "source": [
    "shutil.copy('direct_ims/direct_drz.fits', 'sextractor/')"
   ]
  },
  {
   "cell_type": "markdown",
   "id": "ad5532f4",
   "metadata": {},
   "source": [
    "2. With SExtractor installed, run the following command from within the `sextractor` directory that came with this notebook:\n",
    "    `sex -c aXe.sex direct_drz.fits[1] -DETECT_THRESH 5 -MAG_ZEROPOINT 26.4525`\n",
    "\n",
    "    Note that the value for the `DETECT_THRESH` keyword, which sets the minimum value for pixels to be considered, may be changed appropriately for your data."
   ]
  },
  {
   "cell_type": "code",
   "execution_count": null,
   "id": "88dd395f",
   "metadata": {},
   "outputs": [],
   "source": [
    "os.chdir('sextractor')\n",
    "\n",
    "detect_thresh = 5\n",
    "cl_input = f'sex -c aXe.sex direct_drz.fits[1] -DETECT_THRESH {detect_thresh} -MAG_ZEROPOINT 26.4525'"
   ]
  },
  {
   "cell_type": "code",
   "execution_count": null,
   "id": "2f57cb43",
   "metadata": {
    "scrolled": true
   },
   "outputs": [],
   "source": [
    "os.system(cl_input)"
   ]
  },
  {
   "cell_type": "code",
   "execution_count": null,
   "id": "087eb4cd",
   "metadata": {},
   "outputs": [],
   "source": [
    "# Copy the catalog to the direct image directory\n",
    "os.chdir(cwd)\n",
    "# shutil.copy('sextractor/aXe.cat', 'direct_ims')\n",
    "\n",
    "# Copy the example catalog to the direct image directory:\n",
    "shutil.copy('example_data/aXe.cat', 'direct_ims')"
   ]
  },
  {
   "cell_type": "markdown",
   "id": "0058a1c3",
   "metadata": {},
   "source": [
    "3. Examine the catalog. The \"MAG_ISO\" column must be renamed to \"MAG_F####\" for it to be correctly read in by HSTaXe, with \"####\" being replaced by a number, nominally the pivot wavelength of the direct image filter in nm (e.g. 1392 for F140W). Any lines containing clearly spurious detections, such as those with magnitudes of $\\pm$99, should also be removed. **Note**: These edits must be done manually as astropy only supports reading of SExtractor-formatted tables, not writing.\n",
    "\n",
    "    Additionally, locate the lines containing the sources whose spectra you want to extract and note the line number from the NUMBER column. This will be used later to identify the BEAM number for your object in the output files."
   ]
  },
  {
   "cell_type": "code",
   "execution_count": null,
   "id": "d555574d",
   "metadata": {},
   "outputs": [],
   "source": [
    "cat = Table.read('direct_ims/aXe.cat', format='ascii.sextractor')\n",
    "cat\n",
    "\n",
    "# Rename the MAG_ISO column and remove spurious rows manually!"
   ]
  },
  {
   "cell_type": "code",
   "execution_count": null,
   "id": "d38ac667",
   "metadata": {},
   "outputs": [],
   "source": [
    "# Use this cell to filter your catalog for your sources\n",
    "# In this example, we sort to identify the brightest sources\n",
    "cat.sort('MAG_F1392')\n",
    "cat"
   ]
  },
  {
   "cell_type": "markdown",
   "id": "c6b64214",
   "metadata": {},
   "source": [
    "# 3. Running HSTaXe<a id=\"aXe\"></a>\n",
    "\n",
    "With the catalog generated, we can now move on to working with HSTaXe. We'll set up some directories and environment variables that point to them, while clearing out any previous data or outputs in these directories. We won't clear the `CONF` directory, which contains configuration files with information that HSTaXe will use to locate the spectra in our grism images. We'll also copy our data into the fresh `DATA` directory."
   ]
  },
  {
   "cell_type": "code",
   "execution_count": null,
   "id": "ef990243",
   "metadata": {},
   "outputs": [],
   "source": [
    "os.chdir(cwd)\n",
    "\n",
    "# DATA\n",
    "if os.path.isdir('DATA'):\n",
    "    shutil.rmtree('DATA')\n",
    "os.mkdir('DATA')\n",
    "os.environ['AXE_IMAGE_PATH'] = './DATA/' \n",
    "\n",
    "src = 'direct_ims/*flt.fits'\n",
    "dst = 'DATA'\n",
    "for f in glob.glob(src):\n",
    "    shutil.copy(f, dst)\n",
    "src = 'grism_ims/*flt.fits'\n",
    "for f in glob.glob(src):\n",
    "    shutil.copy(f, dst)"
   ]
  },
  {
   "cell_type": "code",
   "execution_count": null,
   "id": "294de348",
   "metadata": {},
   "outputs": [],
   "source": [
    "# CONF\n",
    "os.environ['AXE_CONFIG_PATH'] = './CONF/'"
   ]
  },
  {
   "cell_type": "code",
   "execution_count": null,
   "id": "e826fd3f",
   "metadata": {},
   "outputs": [],
   "source": [
    "# OUTPUT\n",
    "if os.path.isdir('OUTPUT'):\n",
    "    shutil.rmtree('OUTPUT')\n",
    "os.mkdir('OUTPUT')\n",
    "os.environ['AXE_OUTPUT_PATH'] = './OUTPUT/'"
   ]
  },
  {
   "cell_type": "markdown",
   "id": "da0eb2d7",
   "metadata": {},
   "source": [
    "Next, we define the field-of-view boundaries for the detector. We'll pass this information to the `iolprep` task, which will let it include in the input object lists (IOLs) it generates, objects whose direct image locations fall outside of the chip but whose spectral traces do fall onto the chip.\n",
    "\n",
    "For WFC3/IR, the [left, right, top, bottom] extensions, in pixels, are [183, 85, 50, 50]"
   ]
  },
  {
   "cell_type": "code",
   "execution_count": null,
   "id": "a55227aa",
   "metadata": {},
   "outputs": [],
   "source": [
    "FOV = '183,85,50,50'"
   ]
  },
  {
   "cell_type": "markdown",
   "id": "8662a6e1",
   "metadata": {},
   "source": [
    "Now we'll run `iolprep` to generate our IOLs, which are object catalogs for each individual direct image, from the drizzled direct image and its catalog."
   ]
  },
  {
   "cell_type": "code",
   "execution_count": null,
   "id": "e9068904",
   "metadata": {},
   "outputs": [],
   "source": [
    "os.chdir(cwd)\n",
    "os.chdir('direct_ims')\n",
    "\n",
    "axetasks.iolprep(drizzle_image = 'direct_drz.fits',\n",
    "                input_cat = 'aXe.cat',\n",
    "                dimension_in = FOV)"
   ]
  },
  {
   "cell_type": "code",
   "execution_count": null,
   "id": "6c82e3e4",
   "metadata": {},
   "outputs": [],
   "source": [
    "# Copy the IOLs to the aXe DATA directory\n",
    "os.chdir(cwd)\n",
    "for f in glob.glob('direct_ims/*_?.cat'):\n",
    "    shutil.copy(f, 'DATA')"
   ]
  },
  {
   "cell_type": "markdown",
   "id": "2e616117",
   "metadata": {},
   "source": [
    "The last step before extracting our spectra is to generate a file which contains on each line the names of a grism image, IOL name, and associated direct image. This is best done manually, to ensure that each grism image lines up with the appropriate direct image. For the example data, a file called `example.lis` is provided.\n",
    "\n",
    "With this list, we run `axeprep`, which prepares the individual images for spectral extraction. This step is also responsible for perfoming a global background subtraction, if desired. This is controlled by the `backgr` keyword.\n",
    "\n",
    "Note that the `configs` and `backims` keywords should be matched to the data you have. E.g., if you are working with G102 data with direct images in F098M, the config file should be `G102.F098M.V4.31.conf`. If you are not performing a global background subtraction, `backims` is not required, but should be matched to the correct grism if you are."
   ]
  },
  {
   "cell_type": "code",
   "execution_count": null,
   "id": "92d9d6c2",
   "metadata": {},
   "outputs": [],
   "source": [
    "# Uncomment below to copy and rename the example list file\n",
    "# os.chdir(cwd)\n",
    "# shutil.copy('example_data/example.lis', '.')\n",
    "# os.rename('example.lis', 'aXe.lis')"
   ]
  },
  {
   "cell_type": "code",
   "execution_count": null,
   "id": "a044ea24",
   "metadata": {},
   "outputs": [],
   "source": [
    "os.chdir(cwd)\n",
    "\n",
    "axetasks.axeprep(inlist='aXe.lis',\n",
    "                     configs='G141.F140W.V4.31.conf',\n",
    "                     backims='WFC3.IR.G141.sky.V1.0.fits',\n",
    "                     backgr=False,\n",
    "                     norm=False,\n",
    "                     mfwhm=3.0)"
   ]
  },
  {
   "cell_type": "markdown",
   "id": "aa06bc7f",
   "metadata": {},
   "source": [
    "The last HSTaXe task to run is `axecore`, which performs the actual extraction and generates output files. Again, the configuration file and sky background arguments should be matched to the spectral elements used for your data.\n",
    "\n",
    "Local background subtraction is also performed by this step, if desired. The following keywords are critical for local background:\n",
    "\n",
    "* `back`: This argument is the flag to trigger local background subtraction.\n",
    "* `np`: Defines the number of pixels on either side of the spectral trace (beam) used to calculate the local background from.\n",
    "* `interp`: Sets the interpolation method for the local background (-1=median, 0=mean, ≥1=nth order polynomial)\n",
    "* `backfwhm`: The FWHM specifying the width of the background pixel extraction table\n",
    "\n",
    "More information on background handling, both global and local, with `HSTaXe` can be found in the documentation [here](https://hstaxe.readthedocs.io/en/latest/hstaxe/description.html#sky-background)."
   ]
  },
  {
   "cell_type": "code",
   "execution_count": null,
   "id": "d147d692",
   "metadata": {},
   "outputs": [],
   "source": [
    "axetasks.axecore('aXe.lis',\n",
    "                 'G141.F140W.V4.31.conf',\n",
    "                 fconfterm='WFC3.IR.G141.sky.V1.0.fits',\n",
    "                 extrfwhm=4.,\n",
    "                 drzfwhm=3.,\n",
    "                 backfwhm=5.,\n",
    "                 orient=False,\n",
    "                 back=False,\n",
    "                 weights=True,\n",
    "                 slitless_geom=True,\n",
    "                 cont_model='gauss',\n",
    "                 sampling='drizzle',\n",
    "                 exclude=True)"
   ]
  },
  {
   "cell_type": "markdown",
   "id": "6ef080fa",
   "metadata": {},
   "source": [
    "## 3.1. Outputs<a id=\"out\"></a>\n",
    "\n",
    "Each grism input file will have several corresponding output files. For now, let's take a look at the STP files, which contain 2D \"stamps\" of the extracted spectral traces; and the SPC files, which contain our 1D extracted spectra.\n",
    "\n",
    "We'll need the line numbers from the original source catalog we generated to identify the BEAM number for the objects whose spectra we want. For the example data, we'll use the bright star in the bottom-left of the direct images, which is on line 239 in the provided catalog.\n",
    "\n",
    "We'll first look at the STP files:"
   ]
  },
  {
   "cell_type": "code",
   "execution_count": null,
   "id": "c3ca780b",
   "metadata": {},
   "outputs": [],
   "source": [
    "!ls OUTPUT/*SPC.fits\n",
    "!ls OUTPUT/*STP.fits"
   ]
  },
  {
   "cell_type": "code",
   "execution_count": null,
   "id": "0d5d4e33",
   "metadata": {},
   "outputs": [],
   "source": [
    "beam = '239'\n",
    "\n",
    "fig, axes = plt.subplots(4, 1, figsize=(12,9))\n",
    "\n",
    "for i, f in enumerate(glob.glob('OUTPUT/*STP.fits')):\n",
    "    with fits.open(f) as hdul:\n",
    "        d = hdul[f'BEAM_{beam}A'].data\n",
    "        im = axes[i].imshow(d, origin='lower')\n",
    "        axes[i].set_title(os.path.basename(f))\n",
    "        im.set_clim(0, 5.0)\n",
    "        \n",
    "plt.tight_layout()"
   ]
  },
  {
   "cell_type": "markdown",
   "id": "05fa703c",
   "metadata": {},
   "source": [
    "And now, the SPC files:"
   ]
  },
  {
   "cell_type": "code",
   "execution_count": null,
   "id": "e2f2a7ae",
   "metadata": {},
   "outputs": [],
   "source": [
    "beam = '239'\n",
    "\n",
    "fig, axes = plt.subplots(4, 1, figsize=(12,12), sharex=True)\n",
    "\n",
    "for i, f in enumerate(glob.glob('OUTPUT/*2.SPC.fits')):\n",
    "    with fits.open(f) as hdul:\n",
    "        d = hdul[f'BEAM_{beam}A'].data\n",
    "        wl = d['LAMBDA']\n",
    "        flux = d['FLUX']\n",
    "        error = d['FERROR']\n",
    "        xrange = (wl>11500) & (wl<16000)\n",
    "        axes[i].errorbar(wl[xrange],flux[xrange],error[xrange])\n",
    "        axes[i].set_title(os.path.basename(f))\n",
    "        axes[i].set_ylabel(r'Flux ($erg/s/cm^2/\\AA/s$)')        \n",
    "axes[3].set_xlabel(r'Wavelength ($\\AA$)')\n",
    "        \n",
    "plt.tight_layout()"
   ]
  },
  {
   "cell_type": "markdown",
   "id": "55b1338f",
   "metadata": {},
   "source": [
    "# 4. Conclusions <a id=\"conclusions\"></a>\n",
    "\n",
    "Thank you for walking through this spectral extraction workflow. You should now be able to perform a basic extraction on WFC3/IR data using HSTaXe.\n",
    "\n",
    "For additional information on the WFC3 grisms, please visit the [grism resources](https://www.stsci.edu/hst/instrumentation/wfc3/documentation/grism-resources) and [grism data analysis](https://www.stsci.edu/hst/instrumentation/wfc3/documentation/grism-resources/grism-data-analysis) webpages.\n",
    "\n",
    "Further workflow cookbooks are available on the [HSTaXe GitHub](https://github.com/spacetelescope/HSTaXe), including a more advanced IR extraction, and a UVIS extraction. For detailed information on HSTaXe, please visit the [documentation webpage](https://hstaxe.readthedocs.io/en/latest/index.html).\n",
    "\n",
    "**Congratulations, you have completed the notebook.**"
   ]
  },
  {
   "cell_type": "markdown",
   "id": "9a339b9d",
   "metadata": {},
   "source": [
    "## About this Notebook <a id=\"about\"></a>\n",
    "\n",
    "**Author:** Aidan Pidgeon, WFC3 Instrument Team\n",
    "\n",
    "**Special Thanks to:** \n",
    " - Dr. Nor Pirzkal, for creating the original workflow that was adapted into this notebook\n",
    " - Ricky O'Steen and Duy Nguyen, for their fantastic work in updating the HSTaXe module\n",
    " - Debopam Som and Benjamin Kuhn, for support in testing the HSTaXe workflow\n",
    "\n",
    "**Updated On:** 2022-01-06\n",
    "\n",
    "## Citations <a id=\"cite\"></a>\n",
    "\n",
    "If you use `astropy` for published research, please cite the\n",
    "authors. Follow this link for more information about citing\n",
    "`astropy`:\n",
    "\n",
    "* [Citing `astropy`](https://www.astropy.org/acknowledging.html)"
   ]
  },
  {
   "cell_type": "code",
   "execution_count": null,
   "id": "c5071fb5",
   "metadata": {},
   "outputs": [],
   "source": []
  }
 ],
 "metadata": {
  "kernelspec": {
   "display_name": "Python 3 (ipykernel)",
   "language": "python",
   "name": "python3"
  },
  "language_info": {
   "codemirror_mode": {
    "name": "ipython",
    "version": 3
   },
   "file_extension": ".py",
   "mimetype": "text/x-python",
   "name": "python",
   "nbconvert_exporter": "python",
   "pygments_lexer": "ipython3",
   "version": "3.10.8"
  }
 },
 "nbformat": 4,
 "nbformat_minor": 5
}
